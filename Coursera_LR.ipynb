{
  "nbformat": 4,
  "nbformat_minor": 0,
  "metadata": {
    "colab": {
      "provenance": [],
      "authorship_tag": "ABX9TyPwCgT837GgK0KWWaR7AJ8J",
      "include_colab_link": true
    },
    "kernelspec": {
      "name": "python3",
      "display_name": "Python 3"
    },
    "language_info": {
      "name": "python"
    }
  },
  "cells": [
    {
      "cell_type": "markdown",
      "metadata": {
        "id": "view-in-github",
        "colab_type": "text"
      },
      "source": [
        "<a href=\"https://colab.research.google.com/github/Renshui-MC/Coursera_RegressionAndClassification/blob/main/Coursera_LR.ipynb\" target=\"_parent\"><img src=\"https://colab.research.google.com/assets/colab-badge.svg\" alt=\"Open In Colab\"/></a>"
      ]
    },
    {
      "cell_type": "code",
      "execution_count": 44,
      "metadata": {
        "id": "LrSwjI4U1yug"
      },
      "outputs": [],
      "source": [
        "import numpy as np\n",
        "import matplotlib.pyplot as plt\n",
        "plt.style.use('./files/deeplearning.mplstyle')"
      ]
    },
    {
      "cell_type": "markdown",
      "source": [
        "We have two rows that represent two training examples, e.g., $x^{i}$ where $i$ represents the number of training examples. "
      ],
      "metadata": {
        "id": "dCCuEji187ky"
      }
    },
    {
      "cell_type": "markdown",
      "source": [
        "size (1000 sqft)         | price (1000 dollars)| \n",
        "-------------------|--------------------\n",
        "(1) 1.0              | 300              \n",
        "(2) 2.0              | 500   \n"
      ],
      "metadata": {
        "id": "JNb3grd-85Xd"
      }
    },
    {
      "cell_type": "code",
      "source": [
        "# x_train is the input variable (size in 1000 square feet)\n",
        "# y_train is the target (price in 1000s of dollars)\n",
        "x_train = np.array([1.0, 2.0])\n",
        "y_train = np.array([300.0, 500.0])\n",
        "print(f\"x_train = {x_train}\")\n",
        "print(f\"y_train = {y_train}\")"
      ],
      "metadata": {
        "colab": {
          "base_uri": "https://localhost:8080/"
        },
        "id": "_GPB3ap2-flW",
        "outputId": "8250df3a-fe75-4f6f-9082-efe203134c2b"
      },
      "execution_count": 45,
      "outputs": [
        {
          "output_type": "stream",
          "name": "stdout",
          "text": [
            "x_train = [1. 2.]\n",
            "y_train = [300. 500.]\n"
          ]
        }
      ]
    },
    {
      "cell_type": "markdown",
      "source": [
        "two training examples"
      ],
      "metadata": {
        "id": "ec6JUCNO_MJj"
      }
    },
    {
      "cell_type": "code",
      "source": [
        "print(f\"size of x_train = {x_train.size}\")\n",
        "print(f\"size of y_train = {y_train.size}\")"
      ],
      "metadata": {
        "colab": {
          "base_uri": "https://localhost:8080/"
        },
        "id": "2OOnPPou-q_F",
        "outputId": "73f69099-22c1-4872-d45a-9ea3c39ebca7"
      },
      "execution_count": 46,
      "outputs": [
        {
          "output_type": "stream",
          "name": "stdout",
          "text": [
            "size of x_train = 2\n",
            "size of y_train = 2\n"
          ]
        }
      ]
    },
    {
      "cell_type": "markdown",
      "source": [
        "Get number of training examples using `.shape`. `NumPy` arrays have an attribute called `shape` that returns a `tuple` with each **index** having the number of corresponding elements. \n",
        "\n",
        "+ `shape` is an instance attribute (dynamic)\n",
        "+ class attribute is static (always same)\n",
        "\n",
        "[https://www.freecodecamp.org/news/python-attributes-class-and-instance-attribute-examples/#:~:text=Class%20and%20Instance%20Attributes%20in,same%20for%20every%20new%20object.](https://www.freecodecamp.org/news/python-attributes-class-and-instance-attribute-examples/#:~:text=Class%20and%20Instance%20Attributes%20in,same%20for%20every%20new%20object.)"
      ],
      "metadata": {
        "id": "6Fr6rxWx7uaV"
      }
    },
    {
      "cell_type": "code",
      "source": [
        "m = x_train.shape[0]\n",
        "print(f\"Number of training examples is: {m}\")"
      ],
      "metadata": {
        "colab": {
          "base_uri": "https://localhost:8080/"
        },
        "id": "XplgmH3v7iPw",
        "outputId": "e8b9f8b2-633f-4a36-efaa-fb759cf254b7"
      },
      "execution_count": 47,
      "outputs": [
        {
          "output_type": "stream",
          "name": "stdout",
          "text": [
            "Number of training examples is: 2\n"
          ]
        }
      ]
    },
    {
      "cell_type": "code",
      "source": [
        "x = x_train.shape\n",
        "type(x)"
      ],
      "metadata": {
        "colab": {
          "base_uri": "https://localhost:8080/"
        },
        "id": "gUw7BiCs-QTl",
        "outputId": "3706eb58-589b-408b-974d-71a8faffe0c6"
      },
      "execution_count": 48,
      "outputs": [
        {
          "output_type": "execute_result",
          "data": {
            "text/plain": [
              "tuple"
            ]
          },
          "metadata": {},
          "execution_count": 48
        }
      ]
    },
    {
      "cell_type": "markdown",
      "source": [
        "`ndmin` specifies the dimension of a created array. In this example, `index 4` refers to the `5th` dimension (last dimension) as the dimension starts from $0$ in python. The following example creates $5$ dimensions with the last dimension containing $6$ elements. It is accessed by `arr.shape[4]`."
      ],
      "metadata": {
        "id": "gckba8K2F-Pg"
      }
    },
    {
      "cell_type": "code",
      "source": [
        "arr = np.array([1, 2, 3, 4, 5, 6], ndmin=5)\n",
        "arr.shape[0]\n",
        "print(arr)\n",
        "print('shape of array :', arr.shape[4])"
      ],
      "metadata": {
        "colab": {
          "base_uri": "https://localhost:8080/"
        },
        "id": "DK-bLcHSEOv5",
        "outputId": "0822e549-bf5c-409c-e24d-f60347a3d5c8"
      },
      "execution_count": 49,
      "outputs": [
        {
          "output_type": "stream",
          "name": "stdout",
          "text": [
            "[[[[[1 2 3 4 5 6]]]]]\n",
            "shape of array : 6\n"
          ]
        }
      ]
    },
    {
      "cell_type": "markdown",
      "source": [
        "## training examples\n",
        "\n",
        "1. to access training examples ($x^{(i)}$ and $y^{(i)}$) in a `Numpy` array through indexing.\n",
        "\n",
        "+ `x_train[i]` and `y_train[i]`\n"
      ],
      "metadata": {
        "id": "GQvP3DbHHzHY"
      }
    },
    {
      "cell_type": "code",
      "source": [
        "i = 1 # test i = 1\n",
        "\n",
        "x_i = x_train[i]\n",
        "y_i = y_train[i]\n",
        "print(f\"(x^({i})), y^({i}) = ({x_i}, {y_i})\")"
      ],
      "metadata": {
        "colab": {
          "base_uri": "https://localhost:8080/"
        },
        "id": "Wc3NWLZYJOMv",
        "outputId": "fe0412f0-d256-44e5-cfb8-e54472a3f4bf"
      },
      "execution_count": 50,
      "outputs": [
        {
          "output_type": "stream",
          "name": "stdout",
          "text": [
            "(x^(1)), y^(1) = (2.0, 500.0)\n"
          ]
        }
      ]
    },
    {
      "cell_type": "markdown",
      "source": [
        "##Plotting the data\n",
        "\n",
        "`matplotlib.pyplot` is a collection of functions that make `matplotlib` work like `MATLAB`.\n",
        "\n",
        "1. `matplotlib` is a python library"
      ],
      "metadata": {
        "id": "0CjPcP2GKofX"
      }
    },
    {
      "cell_type": "code",
      "source": [
        "# Plotthe data points\n",
        "plt.scatter(x_train, y_train, marker = 'x', c='b')\n",
        "plt.title('Housing Prices')\n",
        "plt.ylabel('Price (in 1000s of dollars)')\n",
        "plt.xlabel('Size (1000 sqft)')\n",
        "plt.show()"
      ],
      "metadata": {
        "colab": {
          "base_uri": "https://localhost:8080/",
          "height": 291
        },
        "id": "KeEhbL4cKoKO",
        "outputId": "2def8b7d-579b-45b2-f0d0-088cb853fad5"
      },
      "execution_count": 51,
      "outputs": [
        {
          "output_type": "display_data",
          "data": {
            "text/plain": [
              "<Figure size 432x288 with 1 Axes>"
            ],
            "image/png": "[encoded data removed]"
          },
          "metadata": {}
        }
      ]
    },
    {
      "cell_type": "markdown",
      "source": [
        "##Model function\n",
        "\n",
        "Linear regression with weights and biases. \n",
        "\n",
        "$f_{w,b}(x^{(i)}) = wx^{(i)} + b$\n",
        "\n",
        "1. guess our weights and biases, i.e., $w = 100$ and $b = 100$\n",
        "2. to avoid repetition we create a function"
      ],
      "metadata": {
        "id": "VwHIz6OuLzbF"
      }
    },
    {
      "cell_type": "code",
      "source": [
        "w = 100\n",
        "b = 100\n",
        "print(f\"w: {w}\")\n",
        "print(f\"b: {b}\")"
      ],
      "metadata": {
        "colab": {
          "base_uri": "https://localhost:8080/"
        },
        "id": "FjvyRTGJMR70",
        "outputId": "6b0fa016-4da1-448d-9ba4-5354c367248a"
      },
      "execution_count": 52,
      "outputs": [
        {
          "output_type": "stream",
          "name": "stdout",
          "text": [
            "w: 100\n",
            "b: 100\n"
          ]
        }
      ]
    },
    {
      "cell_type": "code",
      "source": [
        "def compute_model_output(x, w, b):\n",
        "  \"\"\"\n",
        "  linear regression model\n",
        "  \n",
        "  Args:\n",
        "    x (ndarray (m,)): a vector, m training examples\n",
        "    w,b.            : model paramters (weights and biases)\n",
        "  Returns\n",
        "    y (ndarray (m,)): target \n",
        "  \"\"\"\n",
        "  \n",
        "  m = x.shape[0] #vector only has one dimension\n",
        "  f_wb = np.zeros(m) #create a corresponding output vector variable\n",
        "  \n",
        "  for i in range(m):\n",
        "    f_wb[i] = w * x[i] + b\n",
        "  return f_wb"
      ],
      "metadata": {
        "id": "LLtc1H75Nn24"
      },
      "execution_count": 53,
      "outputs": []
    },
    {
      "cell_type": "markdown",
      "source": [
        "## Training"
      ],
      "metadata": {
        "id": "G0GB19HcSsle"
      }
    },
    {
      "cell_type": "code",
      "source": [
        "x = x_train\n",
        "print(x)"
      ],
      "metadata": {
        "colab": {
          "base_uri": "https://localhost:8080/"
        },
        "id": "xFFSrOlcT1GF",
        "outputId": "d2dec4ce-3e0e-4d52-e869-fcdac9d13e7d"
      },
      "execution_count": 54,
      "outputs": [
        {
          "output_type": "stream",
          "name": "stdout",
          "text": [
            "[1. 2.]\n"
          ]
        }
      ]
    },
    {
      "cell_type": "code",
      "source": [
        "tmp_f_wb = compute_model_output(x_train, w, b)\n",
        "\n",
        "#plot the prediction\n",
        "plt.plot(x_train, tmp_f_wb, c='r', label='Prediction')#x_train represents x coordinates that remain the same\n",
        "\n",
        "#plot the data points\n",
        "plt.scatter(x_train, y_train, marker='x', c='b', label='Actual data')\n",
        "\n",
        "# set the title\n",
        "plt.title(\"Housing Price\")\n",
        "\n",
        "# set the y-axis label\n",
        "plt.ylabel(\"Price (in 1000s of dollars)\")\n",
        "\n",
        "# set the x-axis label\n",
        "plt.xlabel(\"Size (1000 sqft)\")\n",
        "plt.legend()\n",
        "plt.show()\n"
      ],
      "metadata": {
        "colab": {
          "base_uri": "https://localhost:8080/",
          "height": 291
        },
        "id": "THCBHj52SwKe",
        "outputId": "110a351e-b824-491c-c944-b6e5d5bb4623"
      },
      "execution_count": 55,
      "outputs": [
        {
          "output_type": "display_data",
          "data": {
            "text/plain": [
              "<Figure size 432x288 with 1 Axes>"
            ],
            "image/png": "[encoded data removed]"
          },
          "metadata": {}
        }
      ]
    },
    {
      "cell_type": "markdown",
      "source": [
        "Let's try different weights to get better prediction. Later we will train the model parameters to get more accurate results. \n",
        "\n",
        "1. $w  = 200$\n",
        "2. $b = 100$"
      ],
      "metadata": {
        "id": "-eB_WEGjVU2k"
      }
    },
    {
      "cell_type": "code",
      "source": [
        "w = 200\n",
        "b = 100\n",
        "\n",
        "tmp_f_wb = compute_model_output(x_train, w, b)\n",
        "\n",
        "#plot the prediction\n",
        "plt.plot(x_train, tmp_f_wb, c='r', label='Prediction')#x_train represents x coordinates that remain the same\n",
        "\n",
        "#plot the data points\n",
        "plt.scatter(x_train, y_train, marker='x', c='b', label='Actual data')\n",
        "\n",
        "# set the title\n",
        "plt.title(\"Housing Price\")\n",
        "\n",
        "# set the y-axis label\n",
        "plt.ylabel(\"Price (in 1000s of dollars)\")\n",
        "\n",
        "# set the x-axis label\n",
        "plt.xlabel(\"Size (1000 sqft)\")\n",
        "plt.legend()\n",
        "plt.show()"
      ],
      "metadata": {
        "colab": {
          "base_uri": "https://localhost:8080/",
          "height": 291
        },
        "id": "_PE-cVfPVthZ",
        "outputId": "197f08d4-faa9-48d9-a3d4-7a98334d5a31"
      },
      "execution_count": 56,
      "outputs": [
        {
          "output_type": "display_data",
          "data": {
            "text/plain": [
              "<Figure size 432x288 with 1 Axes>"
            ],
            "image/png": "[encoded data removed]"
          },
          "metadata": {}
        }
      ]
    },
    {
      "cell_type": "markdown",
      "source": [
        "##Prediction\n",
        "\n",
        "1. using `np.array` to convert an int or a float input to an array\n",
        "\n",
        "2. passing the input into the linear model `compute_model_ouput`"
      ],
      "metadata": {
        "id": "ukVw_sXGWrQ0"
      }
    },
    {
      "cell_type": "code",
      "source": [
        "w = 200\n",
        "b = 100\n",
        "\n",
        "# test using a new input\n",
        "x_i = 1.2 \n",
        "\n",
        "# convert x_i to an array using np.array\n",
        "x_pred = np.array([x_i])\n",
        "\n",
        "# passing the vector into the linear model (only one input variable)\n",
        "tmp_f_wb = compute_model_output(x_pred, w, b)\n",
        "\n",
        "print(f\"tmp_f_wb: {tmp_f_wb}\")"
      ],
      "metadata": {
        "colab": {
          "base_uri": "https://localhost:8080/"
        },
        "id": "B4H7ZIs3WHi0",
        "outputId": "fb526942-fe36-4103-f82f-04bf44d5e3a3"
      },
      "execution_count": 76,
      "outputs": [
        {
          "output_type": "stream",
          "name": "stdout",
          "text": [
            "tmp_f_wb: [340.]\n"
          ]
        }
      ]
    }
  ]
}